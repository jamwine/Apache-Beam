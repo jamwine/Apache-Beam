{
 "cells": [
  {
   "cell_type": "markdown",
   "id": "795b14b2",
   "metadata": {},
   "source": [
    "# Apache Beam"
   ]
  },
  {
   "cell_type": "markdown",
   "id": "9cc59c7e",
   "metadata": {},
   "source": [
    "**Apache Beam** is a unified programming model for defining both **batch** jobs and **streaming** data-parallel processing pipelines.\n",
    "\n",
    "<img src='imgs/batch-stream.png' alt='batch-stream.png' width=600 height=600>"
   ]
  },
  {
   "cell_type": "markdown",
   "id": "43109b55",
   "metadata": {},
   "source": [
    "## Pipeline"
   ]
  },
  {
   "cell_type": "markdown",
   "id": "0b0a7e56",
   "metadata": {},
   "source": [
    "A **pipeline** is a user-constructed graph of transformations that defines the desired data processing operations."
   ]
  },
  {
   "cell_type": "markdown",
   "id": "5eb45117",
   "metadata": {},
   "source": [
    "## PCollection"
   ]
  },
  {
   "cell_type": "markdown",
   "id": "fae53487",
   "metadata": {},
   "source": [
    "A **PCollection** is a data set or data stream. The data that a pipeline processes is part of a PCollection."
   ]
  },
  {
   "cell_type": "markdown",
   "id": "8deef3a8",
   "metadata": {},
   "source": [
    "## PTransform"
   ]
  },
  {
   "cell_type": "markdown",
   "id": "b4779a4d",
   "metadata": {},
   "source": [
    "A **PTransform** (or **transform**) represents a data processing operation, or a step, in our pipeline. A transform is applied to zero or more PCollection objects, and produces zero or more PCollection objects.\n"
   ]
  },
  {
   "cell_type": "markdown",
   "id": "5fbfb562",
   "metadata": {},
   "source": [
    "## Aggregation"
   ]
  },
  {
   "cell_type": "markdown",
   "id": "baa9a1cd",
   "metadata": {},
   "source": [
    "**Aggregation** is computing a value from multiple (1 or more) input elements.\n"
   ]
  },
  {
   "cell_type": "markdown",
   "id": "4c4e629b",
   "metadata": {},
   "source": [
    "## User-defined function (UDF)"
   ]
  },
  {
   "cell_type": "markdown",
   "id": "c70e22c4",
   "metadata": {},
   "source": [
    "Some Beam operations allow us to run user-defined code as a way to configure the transform.\n"
   ]
  },
  {
   "cell_type": "markdown",
   "id": "7681f17b",
   "metadata": {},
   "source": [
    "## Schema"
   ]
  },
  {
   "cell_type": "markdown",
   "id": "c021e532",
   "metadata": {},
   "source": [
    "A **schema** is a language-independent type definition for a PCollection. The schema for a PCollection defines elements of that PCollection as an ordered list of named fields.\n"
   ]
  },
  {
   "cell_type": "markdown",
   "id": "90de5183",
   "metadata": {},
   "source": [
    "## Runner"
   ]
  },
  {
   "cell_type": "markdown",
   "id": "6f0a7c19",
   "metadata": {},
   "source": [
    "A **runner** runs a Beam pipeline using the capabilities of our chosen data processing engine.\n"
   ]
  },
  {
   "cell_type": "markdown",
   "id": "9ff0943b",
   "metadata": {},
   "source": [
    "## SDK"
   ]
  },
  {
   "cell_type": "markdown",
   "id": "6b8e4f68",
   "metadata": {},
   "source": [
    "A language-specific library that lets pipeline authors build transforms, construct their pipelines, and submit them to a runner."
   ]
  },
  {
   "cell_type": "markdown",
   "id": "7d4e5ac8",
   "metadata": {},
   "source": [
    "## Window"
   ]
  },
  {
   "cell_type": "markdown",
   "id": "4228f62b",
   "metadata": {},
   "source": [
    "A PCollection can be subdivided into **windows** based on the timestamps of the individual elements. Windows enable grouping operations over collections that grow over time by dividing the collection into windows of finite collections.\n"
   ]
  },
  {
   "cell_type": "markdown",
   "id": "9d2cbcd4",
   "metadata": {
    "heading_collapsed": true
   },
   "source": [
    "## Watermark"
   ]
  },
  {
   "cell_type": "markdown",
   "id": "681449fe",
   "metadata": {
    "hidden": true
   },
   "source": [
    "A **watermark** is a guess as to when all data in a certain window is expected to have arrived. This is needed because data isn’t always guaranteed to arrive in a pipeline in time order, or to always arrive at predictable intervals.\n"
   ]
  },
  {
   "cell_type": "markdown",
   "id": "e718da8e",
   "metadata": {},
   "source": [
    "## Trigger"
   ]
  },
  {
   "cell_type": "markdown",
   "id": "149838e1",
   "metadata": {},
   "source": [
    "A **trigger** determines when to aggregate the results of each window."
   ]
  },
  {
   "cell_type": "markdown",
   "id": "ef7abf19",
   "metadata": {},
   "source": [
    "## State and timers"
   ]
  },
  {
   "cell_type": "markdown",
   "id": "e59cce3f",
   "metadata": {},
   "source": [
    "Per-key **state** and **timer** callbacks are lower level primitives that give us full control over aggregating input collections that grow over time.\n"
   ]
  },
  {
   "cell_type": "markdown",
   "id": "30fcc6c7",
   "metadata": {},
   "source": [
    "## Splittable DoFn"
   ]
  },
  {
   "cell_type": "markdown",
   "id": "2d189595",
   "metadata": {},
   "source": [
    "**Splittable DoFns** let us process elements in a non-monolithic way. We can checkpoint the processing of an element, and the runner can split the remaining work to yield additional parallelism.\n"
   ]
  },
  {
   "cell_type": "markdown",
   "id": "f14707d3",
   "metadata": {},
   "source": []
  },
  {
   "cell_type": "markdown",
   "id": "7fb1d53b",
   "metadata": {},
   "source": []
  }
 ],
 "metadata": {
  "kernelspec": {
   "display_name": "Python 3",
   "language": "python",
   "name": "python3"
  },
  "language_info": {
   "codemirror_mode": {
    "name": "ipython",
    "version": 3
   },
   "file_extension": ".py",
   "mimetype": "text/x-python",
   "name": "python",
   "nbconvert_exporter": "python",
   "pygments_lexer": "ipython3",
   "version": "3.9.7"
  },
  "toc": {
   "base_numbering": 1,
   "nav_menu": {},
   "number_sections": false,
   "sideBar": true,
   "skip_h1_title": false,
   "title_cell": "Table of Contents",
   "title_sidebar": "Contents",
   "toc_cell": false,
   "toc_position": {},
   "toc_section_display": true,
   "toc_window_display": false
  },
  "varInspector": {
   "cols": {
    "lenName": 16,
    "lenType": 16,
    "lenVar": 40
   },
   "kernels_config": {
    "python": {
     "delete_cmd_postfix": "",
     "delete_cmd_prefix": "del ",
     "library": "var_list.py",
     "varRefreshCmd": "print(var_dic_list())"
    },
    "r": {
     "delete_cmd_postfix": ") ",
     "delete_cmd_prefix": "rm(",
     "library": "var_list.r",
     "varRefreshCmd": "cat(var_dic_list()) "
    }
   },
   "types_to_exclude": [
    "module",
    "function",
    "builtin_function_or_method",
    "instance",
    "_Feature"
   ],
   "window_display": false
  }
 },
 "nbformat": 4,
 "nbformat_minor": 5
}
